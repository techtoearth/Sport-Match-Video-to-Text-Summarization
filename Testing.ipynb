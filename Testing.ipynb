{
  "nbformat": 4,
  "nbformat_minor": 0,
  "metadata": {
    "colab": {
      "name": "Testing.ipynb",
      "provenance": [],
      "collapsed_sections": []
    },
    "kernelspec": {
      "name": "python3",
      "display_name": "Python 3"
    },
    "language_info": {
      "name": "python"
    }
  },
  "cells": [
    {
      "cell_type": "code",
      "metadata": {
        "id": "s_lMn3habVu8"
      },
      "source": [
        "import cv2\n",
        "import tensorflow as tf\n",
        "from tensorflow.keras import layers\n",
        "import os\n",
        "import numpy as np"
      ],
      "execution_count": null,
      "outputs": []
    },
    {
      "cell_type": "code",
      "metadata": {
        "colab": {
          "base_uri": "https://localhost:8080/"
        },
        "id": "An-AOeA4beB_",
        "outputId": "05957bd8-1071-48b6-c636-e7662cecc0fa"
      },
      "source": [
        "from google.colab import drive\n",
        "drive.mount('/content/drive')"
      ],
      "execution_count": null,
      "outputs": [
        {
          "output_type": "stream",
          "name": "stdout",
          "text": [
            "Drive already mounted at /content/drive; to attempt to forcibly remount, call drive.mount(\"/content/drive\", force_remount=True).\n"
          ]
        }
      ]
    },
    {
      "cell_type": "code",
      "metadata": {
        "id": "eQ_T7fYlbmqZ"
      },
      "source": [
        "# read the video and extract info about it\n",
        "cap = cv2.VideoCapture('/content/drive/MyDrive/test.mp4')\n"
      ],
      "execution_count": null,
      "outputs": []
    },
    {
      "cell_type": "code",
      "metadata": {
        "colab": {
          "base_uri": "https://localhost:8080/"
        },
        "id": "ydvK4Oc5bwT_",
        "outputId": "028d4abf-9421-452d-d757-179ff1c8c6c3"
      },
      "source": [
        "# get total number of frames and generate a list with each 30 th frame \n",
        "totalFrames = int(cap.get(cv2.CAP_PROP_FRAME_COUNT))\n",
        "x = [i for i in range (1, totalFrames) if divmod(i, int(30))[1]==0]\n",
        "print(totalFrames)"
      ],
      "execution_count": null,
      "outputs": [
        {
          "output_type": "stream",
          "name": "stdout",
          "text": [
            "369\n"
          ]
        }
      ]
    },
    {
      "cell_type": "code",
      "metadata": {
        "colab": {
          "base_uri": "https://localhost:8080/"
        },
        "id": "9jhbkttCb-F2",
        "outputId": "7d0c2b06-96c3-4674-a488-73ac1933ae61"
      },
      "source": [
        "currentframe=0\n",
        "for myFrameNumber in x:\n",
        "  #set which frame to read\n",
        "  cap.set(cv2.CAP_PROP_POS_FRAMES,myFrameNumber)\n",
        "  # read frame\n",
        "  ret, frame = cap.read()\n",
        "  # display frame\n",
        "  name = '/content/drive/MyDrive/test_set/test_frame_' + str(currentframe) + '.jpg'\n",
        "  print ('Creating...' + name)\n",
        "  cv2.imwrite(name, frame)\n",
        "  currentframe += 1\n",
        "\n",
        "  # wait one second, exit loop if escape is pressed\n",
        "  ch = 0xFF & cv2.waitKey(1000)\n",
        "  if ch == 27:\n",
        "    break"
      ],
      "execution_count": null,
      "outputs": [
        {
          "output_type": "stream",
          "name": "stdout",
          "text": [
            "Creating.../content/drive/MyDrive/test_set/test_frame_0.jpg\n",
            "Creating.../content/drive/MyDrive/test_set/test_frame_1.jpg\n",
            "Creating.../content/drive/MyDrive/test_set/test_frame_2.jpg\n",
            "Creating.../content/drive/MyDrive/test_set/test_frame_3.jpg\n",
            "Creating.../content/drive/MyDrive/test_set/test_frame_4.jpg\n",
            "Creating.../content/drive/MyDrive/test_set/test_frame_5.jpg\n",
            "Creating.../content/drive/MyDrive/test_set/test_frame_6.jpg\n",
            "Creating.../content/drive/MyDrive/test_set/test_frame_7.jpg\n",
            "Creating.../content/drive/MyDrive/test_set/test_frame_8.jpg\n",
            "Creating.../content/drive/MyDrive/test_set/test_frame_9.jpg\n",
            "Creating.../content/drive/MyDrive/test_set/test_frame_10.jpg\n",
            "Creating.../content/drive/MyDrive/test_set/test_frame_11.jpg\n"
          ]
        }
      ]
    },
    {
      "cell_type": "code",
      "metadata": {
        "colab": {
          "base_uri": "https://localhost:8080/"
        },
        "id": "kBqkkWSZhdLB",
        "outputId": "1cd3d8c9-2806-4bb9-c25b-8e8e3fe6c2fd"
      },
      "source": [
        "pre_trained_model = tf.keras.applications.VGG16(input_shape=(224, 224, 3), include_top=False, weights=\"imagenet\")\n",
        "for layer in pre_trained_model.layers:\n",
        "    layer.trainable = False\n",
        "last_layer = pre_trained_model.get_layer('block5_pool')\n",
        "last_output = last_layer.output\n",
        "x = tf.keras.layers.GlobalMaxPooling2D()(last_output)\n",
        "x = tf.keras.layers.Dense(512, activation='relu')(x)\n",
        "x = tf.keras.layers.Dropout(0.5)(x)\n",
        "x = tf.keras.layers.Dense(2, activation='sigmoid')(x)\n",
        "model = tf.keras.Model(pre_trained_model.input, x)\n",
        "model.compile(optimizer='adam', loss=tf.keras.losses.sparse_categorical_crossentropy, metrics=['acc'])\n",
        "checkpoint_path = \"/content/drive/MyDrive/training/cp.ckpt\"\n",
        "if os.path.exists('/content/drive/MyDrive/training'):\n",
        "  model.load_weights(checkpoint_path)\n",
        "else:\n",
        "  print(\"Train your model\")"
      ],
      "execution_count": null,
      "outputs": [
        {
          "output_type": "stream",
          "name": "stdout",
          "text": [
            "WARNING:tensorflow:Unresolved object in checkpoint: (root).optimizer.iter\n",
            "WARNING:tensorflow:Unresolved object in checkpoint: (root).optimizer.beta_1\n",
            "WARNING:tensorflow:Unresolved object in checkpoint: (root).optimizer.beta_2\n",
            "WARNING:tensorflow:Unresolved object in checkpoint: (root).optimizer.decay\n",
            "WARNING:tensorflow:Unresolved object in checkpoint: (root).optimizer.learning_rate\n",
            "WARNING:tensorflow:A checkpoint was restored (e.g. tf.train.Checkpoint.restore or tf.keras.Model.load_weights) but not all checkpointed values were used. See above for specific issues. Use expect_partial() on the load status object, e.g. tf.train.Checkpoint.restore(...).expect_partial(), to silence these warnings, or use assert_consumed() to make the check explicit. See https://www.tensorflow.org/guide/checkpoint#loading_mechanics for details.\n"
          ]
        }
      ]
    },
    {
      "cell_type": "code",
      "metadata": {
        "colab": {
          "base_uri": "https://localhost:8080/"
        },
        "id": "Gk65UfC-gfe3",
        "outputId": "66916579-32ca-4085-e2be-7d6a16fd4d6c"
      },
      "source": [
        "clas = ['Batting','Boundary']\n",
        "for i in range(0,currentframe):\n",
        "  img_path = '/content/drive/MyDrive/test_set/test_frame_' + str(i) + '.jpg'\n",
        "  img = tf.keras.utils.load_img(\n",
        "      img_path, target_size=(224, 224)\n",
        "  )\n",
        "  img_array = tf.keras.utils.img_to_array(img)\n",
        "  img_array = tf.expand_dims(img_array, 0) # Create a batch\n",
        "  predictions = model.predict(img_array)\n",
        "  score = tf.nn.softmax(predictions[0])\n",
        "  print(score)\n",
        "  print(\n",
        "      \"This image most likely belongs to {} with a {:.2f} percent confidence.\"\n",
        "      .format(clas[np.argmax(score)], 100 * np.max(score))\n",
        "  )"
      ],
      "execution_count": null,
      "outputs": [
        {
          "output_type": "stream",
          "name": "stdout",
          "text": [
            "tf.Tensor([0.73041034 0.2695896 ], shape=(2,), dtype=float32)\n",
            "This image most likely belongs to Batting with a 73.04 percent confidence.\n",
            "tf.Tensor([0.7310586  0.26894143], shape=(2,), dtype=float32)\n",
            "This image most likely belongs to Batting with a 73.11 percent confidence.\n",
            "tf.Tensor([0.7310586  0.26894143], shape=(2,), dtype=float32)\n",
            "This image most likely belongs to Batting with a 73.11 percent confidence.\n",
            "tf.Tensor([0.7310586  0.26894143], shape=(2,), dtype=float32)\n",
            "This image most likely belongs to Batting with a 73.11 percent confidence.\n",
            "tf.Tensor([0.7310579 0.2689421], shape=(2,), dtype=float32)\n",
            "This image most likely belongs to Batting with a 73.11 percent confidence.\n",
            "tf.Tensor([0.7310586  0.26894143], shape=(2,), dtype=float32)\n",
            "This image most likely belongs to Batting with a 73.11 percent confidence.\n",
            "tf.Tensor([0.7310586  0.26894143], shape=(2,), dtype=float32)\n",
            "This image most likely belongs to Batting with a 73.11 percent confidence.\n",
            "tf.Tensor([0.7310586  0.26894143], shape=(2,), dtype=float32)\n",
            "This image most likely belongs to Batting with a 73.11 percent confidence.\n",
            "tf.Tensor([0.7310586  0.26894143], shape=(2,), dtype=float32)\n",
            "This image most likely belongs to Batting with a 73.11 percent confidence.\n",
            "tf.Tensor([0.7281697  0.27183032], shape=(2,), dtype=float32)\n",
            "This image most likely belongs to Batting with a 72.82 percent confidence.\n",
            "tf.Tensor([0.5263066 0.4736933], shape=(2,), dtype=float32)\n",
            "This image most likely belongs to Batting with a 52.63 percent confidence.\n",
            "tf.Tensor([0.28535646 0.71464354], shape=(2,), dtype=float32)\n",
            "This image most likely belongs to Boundary with a 71.46 percent confidence.\n"
          ]
        }
      ]
    }
  ]
}