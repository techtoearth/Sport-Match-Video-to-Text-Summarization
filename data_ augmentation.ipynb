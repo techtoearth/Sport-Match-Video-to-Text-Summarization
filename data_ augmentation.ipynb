{
 "cells": [
  {
   "cell_type": "markdown",
   "id": "4e02caa5-0266-4d3c-95a2-2fb2ef2e57a2",
   "metadata": {
    "jp-MarkdownHeadingCollapsed": true,
    "tags": []
   },
   "source": [
    "# Data augmentation\n",
    "\n",
    "For the experiment we do augmentation on images. In augmenatatation we applied various operations on image randomly."
   ]
  },
  {
   "cell_type": "code",
   "execution_count": null,
   "id": "b4e04c93",
   "metadata": {},
   "outputs": [],
   "source": [
    "\"\"\"\n",
    "Below function augment the image using one of the operation on each image randomly.\n",
    "input: fldname = floder name, path = path to that folder\n",
    "output: It stores augmentated image in other folder.\n",
    "\"\"\"\n",
    "\n",
    "from keras.preprocessing.image import ImageDataGenerator, array_to_img, img_to_array, load_img\n",
    "import os\n",
    "from PIL import Image\n",
    "from skimage import io\n",
    "import numpy as np\n",
    "\n",
    "def do_augumentation(fldname, path):\n",
    "    datagen = ImageDataGenerator(\n",
    "            rescale=1/.255,\n",
    "            rotation_range=40,\n",
    "            width_shift_range=0.2,\n",
    "            height_shift_range=0.2,\n",
    "            shear_range=0.2,\n",
    "            zoom_range=0.2,\n",
    "            horizontal_flip=True,\n",
    "            fill_mode='nearest')\n",
    "\n",
    "    image_directory = path + '/' + fldname + '/'  #set input image directory\n",
    "\n",
    "\n",
    "    my_images = os.listdir(image_directory)\n",
    "    c = 0;\n",
    "    for i, image_name in enumerate(my_images):\n",
    "        c+=1\n",
    "        if (image_name.split('.')[1] == 'jpg'):        \n",
    "            dataset = []\n",
    "            image = io.imread(image_directory + image_name)        \n",
    "            image = Image.fromarray(image, 'RGB')\n",
    "            dataset.append(np.array(image))\n",
    "            x = np.array(dataset)\n",
    "            i = 0\n",
    "\n",
    "            num_image = 1\n",
    "            #set out directory\n",
    "            for batch in datagen.flow(x, batch_size=1, save_to_dir='./aug_dataset/'+fldname, save_prefix=fldname, save_format='jpeg'):\n",
    "                if i >= num_image - 1:\n",
    "                    break\n",
    "                i += 1\n",
    "        if c==2500:\n",
    "            return\n"
   ]
  },
  {
   "cell_type": "code",
   "execution_count": null,
   "id": "644a6db1-7149-4873-bae3-7462e342c22d",
   "metadata": {},
   "outputs": [],
   "source": [
    "dataset_path = '../dataset'\n",
    "fld_list = os.listdir(dataset_path)\n",
    "if not os.path.exists('./aug_dataset'):\n",
    "    os.makedirs('./aug_dataset')\n",
    "    \n",
    "for i in fld_list:\n",
    "    if not os.path.exists('./aug_dataset/'+i):\n",
    "        os.makedirs('./aug_dataset/'+i)\n",
    "    do_augumentation(i,dataset_path)"
   ]
  }
 ],
 "metadata": {
  "kernelspec": {
   "display_name": "Python 3 (ipykernel)",
   "language": "python",
   "name": "python3"
  },
  "language_info": {
   "codemirror_mode": {
    "name": "ipython",
    "version": 3
   },
   "file_extension": ".py",
   "mimetype": "text/x-python",
   "name": "python",
   "nbconvert_exporter": "python",
   "pygments_lexer": "ipython3",
   "version": "3.9.7"
  }
 },
 "nbformat": 4,
 "nbformat_minor": 5
}
